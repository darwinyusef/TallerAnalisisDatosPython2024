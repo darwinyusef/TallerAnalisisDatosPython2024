{
  "nbformat": 4,
  "nbformat_minor": 0,
  "metadata": {
    "colab": {
      "private_outputs": true,
      "provenance": [],
      "toc_visible": true,
      "authorship_tag": "ABX9TyNd/DBUaFwQDAbjldSzzvcn",
      "include_colab_link": true
    },
    "kernelspec": {
      "name": "python3",
      "display_name": "Python 3"
    },
    "language_info": {
      "name": "python"
    }
  },
  "cells": [
    {
      "cell_type": "markdown",
      "metadata": {
        "id": "view-in-github",
        "colab_type": "text"
      },
      "source": [
        "<a href=\"https://colab.research.google.com/github/darwinyusef/TallerAnalisisDatosPython2024/blob/master/Evaluaci%C3%B3nCursoB%C3%A1sicoAnalisisDatos.ipynb\" target=\"_parent\"><img src=\"https://colab.research.google.com/assets/colab-badge.svg\" alt=\"Open In Colab\"/></a>"
      ]
    },
    {
      "cell_type": "code",
      "execution_count": null,
      "metadata": {
        "id": "Ns4rbjGahAZ1"
      },
      "outputs": [],
      "source": [
        "!pip install pandas\n",
        "!pip install matplotlib"
      ]
    },
    {
      "cell_type": "code",
      "source": [
        "# @title Bienvenidos Vamos a hacer analisis de datos con Pandas y matplotlib\n"
      ],
      "metadata": {
        "cellView": "form",
        "id": "uADlRBvFwZj9"
      },
      "execution_count": null,
      "outputs": []
    },
    {
      "cell_type": "markdown",
      "source": [
        "En este simulacro, realizaremos un análisis de datos en el contexto del sector agrícola. El objetivo es interpretar y tomar decisiones basadas en variables relacionadas con el rendimiento de los cultivos, el uso de recursos y las condiciones climáticas. Los datos incluyen información sobre el área cultivada, el tipo de cultivo, las condiciones de agua y la cantidad de lluvia, entre otros factores. Esta evaluación se tiene como propósito aprender a utilizar herramientas de análisis de datos, como Python, para obtener conclusiones relevantes para la toma de decisiones en el agro."
      ],
      "metadata": {
        "id": "PHaFCyf1xFJr"
      }
    },
    {
      "cell_type": "code",
      "source": [
        "# Importa la librería Pandas para Analisis de datos\n",
        "# Matplotlib para Visualización de datos\n",
        "import matplotlib.pyplot as plt"
      ],
      "metadata": {
        "id": "dB6wWtIVh8yx"
      },
      "execution_count": null,
      "outputs": []
    },
    {
      "cell_type": "code",
      "source": [
        "# Datos simulados\n",
        "data = {\n",
        "    \"lote\": [\"L1\", \"L1\", \"L2\", \"L2\", \"L1\"],\n",
        "    \"cultivo\": [\"Maíz\", \"Trigo\", \"Soya\", \"Papa\", \"Tomate\"],\n",
        "    \"area_x_hectareas\": [10, 15, 25, 12, 5],\n",
        "    \"produccion_x_kilogramo\": [8000, 10000, 6000, 9000, 4000],\n",
        "    \"agua_usada_metro_cubico\": [12000, 15000, 8000, 10000, 5000],\n",
        "    \"fertilizantes_kilogramo\": [250, 300, 200, 280, 150],\n",
        "    \"temperatura\": [25, 22, 27, 20, 30],\n",
        "    \"lluvia\": [80, 100, 70, 120, 60]\n",
        "}"
      ],
      "metadata": {
        "id": "wW1v6VYFhDDS"
      },
      "execution_count": null,
      "outputs": []
    },
    {
      "cell_type": "code",
      "source": [
        "# Crear un DataFrame\n",
        "df = # dataframe"
      ],
      "metadata": {
        "id": "XrIncR23hGvB"
      },
      "execution_count": null,
      "outputs": []
    },
    {
      "cell_type": "code",
      "source": [
        "# @title Análisis Estudiantes 1 y 2: Evalua la división entre produccion_x_kilogramo / agua_usada_metro_cubico para obtener la Eficiencia Agua (kg/m³)\n",
        "\n",
        "df[\"eficiencia_agua\"] = df[\"produccion_x_kilogramo\"] / df[\"agua_usada_metro_cubico\"]\n",
        "df[\"eficiencia_agua\"].round(3)"
      ],
      "metadata": {
        "cellView": "form",
        "id": "0Smyboq5jn7H"
      },
      "execution_count": null,
      "outputs": []
    },
    {
      "cell_type": "code",
      "source": [
        "# @title Crea y Aplica los datos estadisticos encontrados en (eficiencia_agua)\n",
        "# @markdown > Debes rellenar cada uno de los campos"
      ],
      "metadata": {
        "cellView": "form",
        "id": "beOJLBN9oAhc"
      },
      "execution_count": null,
      "outputs": []
    },
    {
      "cell_type": "code",
      "source": [
        "# Aplica los datos estadisticos encontrados en (eficiencia_agua)\n",
        "count_eficiencia_agua = 0.0 # @param {type:\"number\"}\n",
        "mean_eficiencia_agua = 0.0 # @param {type:\"number\"}\n",
        "std_eficiencia_agua = 0.0 # @param {type:\"number\"}\n",
        "min_eficiencia_agua = 0.0 # @param {type:\"number\"}\n",
        "max_eficiencia_agua = 0.0 # @param {type:\"number\"}\n",
        "\n",
        "print(f\"count: {count_eficiencia_agua}\")\n",
        "print(f\"mean: {mean_eficiencia_agua}\")\n",
        "print(f\"std: {std_eficiencia_agua}\")\n",
        "print(f\"min: {min_eficiencia_agua}\")\n",
        "print(f\"max: {max_eficiencia_agua}\")"
      ],
      "metadata": {
        "id": "8NSSOQj5oO8a"
      },
      "execution_count": null,
      "outputs": []
    },
    {
      "cell_type": "code",
      "source": [
        "preguntaEficienciaAgua = \"Defina la pregunta\" # @param {type:\"string\"}\n",
        "plt.figure(figsize=(5, 4))\n",
        "plt.bar(df[\"cultivo\"], df[\"produccion_x_kilogramo\"], color=\"red\")\n",
        "plt.title(preguntaEficienciaAgua)\n",
        "plt.xlabel(\"Cultivo\")\n",
        "plt.ylabel(\"Eficiencia Agua (kg/m³)\")\n",
        "plt.show()"
      ],
      "metadata": {
        "id": "0CXqMKPCnBKM"
      },
      "execution_count": null,
      "outputs": []
    },
    {
      "cell_type": "code",
      "source": [
        "# @title Define el analisis de estos datos estadisticos y de grafico\n",
        "analisis = \"Aquí debes escribir tu análisis estadístico\" # @param {type:\"string\"}"
      ],
      "metadata": {
        "cellView": "form",
        "id": "7f_a_Sdror0L"
      },
      "execution_count": null,
      "outputs": []
    },
    {
      "cell_type": "code",
      "source": [
        "# @title Aplica los datos estadisticos encontrados en (produccion_x_kilogramo)\n"
      ],
      "metadata": {
        "cellView": "form",
        "id": "9__aMZigulwO"
      },
      "execution_count": null,
      "outputs": []
    },
    {
      "cell_type": "code",
      "source": [
        "# @title Análisis Estudiante 1: Analiza la división entre produccion_x_kilogramo / fertilizantes_kilogramo para obtener Eficiencia Fertilizantes (kg/kg)\n",
        "df[\"eficiencia_fertilizantes\"] = df[\"produccion_x_kilogramo\"] / df[\"fertilizantes_kilogramo\"]\n",
        "df[\"eficiencia_fertilizantes\"].round(3)"
      ],
      "metadata": {
        "cellView": "form",
        "id": "a04h1VZfkLQX"
      },
      "execution_count": null,
      "outputs": []
    },
    {
      "cell_type": "code",
      "source": [
        "# @title Crea la grafica de barras de eficiencia_fertilizantes\n",
        "preguntaEficienciaFertilizantes = \"Defina la pregunta\" # @param {type:\"string\"}\n",
        "plt.figure(figsize=(4, 4))\n",
        "# agrega tu grafica aqui\n",
        "plt.title(preguntaEficienciaFertilizantes)\n",
        "plt.xlabel(\"Cultivo\")\n",
        "plt.ylabel(\"Eficiencia Fer (kg/ha)\")\n",
        "plt.show()"
      ],
      "metadata": {
        "cellView": "form",
        "id": "FUqWSSdwlVY_"
      },
      "execution_count": null,
      "outputs": []
    },
    {
      "cell_type": "code",
      "source": [
        "# @title Define la conclusión del analisis de estos datos estadisticos y de grafico\n",
        "analisis = \"Aquí debes escribir tu análisis estadístico y análisis de los gráficos\" # @param {type:\"string\"}"
      ],
      "metadata": {
        "cellView": "form",
        "id": "8PJurbCqu6PO"
      },
      "execution_count": null,
      "outputs": []
    },
    {
      "cell_type": "code",
      "source": [
        "# @title Análisis Estudiante 2: Evalua la división entre produccion_x_kilogramo  /  area_x_hectareas para obtener la Producción por Hectárea (kg/ha)\n",
        "df[\"produccion_x_area\"] = df[\"produccion_x_kilogramo\"] / df[\"area_x_hectareas\"]\n",
        "df[\"produccion_x_area\"].round(3)"
      ],
      "metadata": {
        "cellView": "form",
        "id": "HsHgPOugkMqm"
      },
      "execution_count": null,
      "outputs": []
    },
    {
      "cell_type": "code",
      "source": [
        "preguntaEficienciaProduccionArea = \"Defina la pregunta\" # @param {type:\"string\"}\n",
        "plt.figure(figsize=(5, 4))\n",
        "# crea la grafica aqui\n",
        "plt.title(preguntaEficienciaProduccionArea)\n",
        "plt.xlabel(\"Cultivo\")\n",
        "plt.ylabel(\"Producción (kg/ha)\")\n",
        "plt.show()\n"
      ],
      "metadata": {
        "id": "7KSWJWjfqOXJ"
      },
      "execution_count": null,
      "outputs": []
    },
    {
      "cell_type": "code",
      "source": [
        "# @title Aplica los datos estadisticos encontrados en (produccion_x_kilogramo)\n"
      ],
      "metadata": {
        "cellView": "form",
        "id": "tyqtlCNEvW81"
      },
      "execution_count": null,
      "outputs": []
    },
    {
      "cell_type": "code",
      "source": [
        "# @title Define la conclusión del Analisis de estos datos estadisticos y de grafico\n",
        "analisis = \"Aquí debes escribir tu análisis estadístico\" # @param {type:\"string\"}"
      ],
      "metadata": {
        "cellView": "form",
        "id": "NV89h95nvH_e"
      },
      "execution_count": null,
      "outputs": []
    },
    {
      "cell_type": "code",
      "source": [
        "df.head()"
      ],
      "metadata": {
        "id": "SivZuWilkDyH"
      },
      "execution_count": null,
      "outputs": []
    },
    {
      "cell_type": "code",
      "source": [
        "# @title Califica el curso y sus contenidos\n",
        "opcion = \"Excelente\" # @param [\"Excelente\", \"Muy bien\", \"Regular\", \"Dificil\"]\n",
        "print(f\"Califica lo aprendido en este curso de Python Basico para analisis de datos: {opcion}\")"
      ],
      "metadata": {
        "cellView": "form",
        "id": "H0-XrRgyrFjZ"
      },
      "execution_count": null,
      "outputs": []
    },
    {
      "cell_type": "code",
      "source": [
        "# @title Crea tu propio analisis y agrega tus propias graficas analizando las mismas al menos 2 por estudiante y genera una conclusión\n",
        "conclusion = \"Aquí debes escribir tu conclusión Estudiante 1\" # @param {type:\"string\"}"
      ],
      "metadata": {
        "cellView": "form",
        "id": "iE2BbC9Eqv1R"
      },
      "execution_count": null,
      "outputs": []
    },
    {
      "cell_type": "code",
      "source": [
        "# @title Crea tu propio analisis y agrega tus propias graficas analizando las mismas al menos 2 por estudiante y genera una conclusión\n",
        "conclusion = \"Aquí debes escribir tu conclusión Estudiante 2\" # @param {type:\"string\"}"
      ],
      "metadata": {
        "cellView": "form",
        "id": "glI5-lfNvli0"
      },
      "execution_count": null,
      "outputs": []
    }
  ]
}